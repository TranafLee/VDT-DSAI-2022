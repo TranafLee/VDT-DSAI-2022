{
  "nbformat": 4,
  "nbformat_minor": 0,
  "metadata": {
    "colab": {
      "name": "7-multivariateLSTM.ipynb",
      "provenance": [],
      "collapsed_sections": []
    },
    "kernelspec": {
      "name": "python3",
      "display_name": "Python 3"
    },
    "language_info": {
      "name": "python"
    }
  },
  "cells": [
    {
      "cell_type": "code",
      "execution_count": 1,
      "metadata": {
        "id": "byXNawrT8ias"
      },
      "outputs": [],
      "source": [
        "import tensorflow as tf \n",
        "import matplotlib as mpl\n",
        "import matplotlib.pyplot as plt\n",
        "\n",
        "from math import sqrt\n",
        "from numpy import concatenate\n",
        "from matplotlib import pyplot\n",
        "from pandas import read_csv\n",
        "from pandas import DataFrame\n",
        "from pandas import concat\n",
        "from sklearn.preprocessing import MinMaxScaler\n",
        "from sklearn.preprocessing import LabelEncoder\n",
        "from sklearn.metrics import mean_squared_error\n",
        "from keras.models import Sequential\n",
        "from keras.layers import Dense\n",
        "from keras.layers import LSTM\n",
        "\n",
        "from sklearn.metrics import mean_squared_error\n",
        "from sklearn.metrics import mean_absolute_error\n",
        "from sklearn.metrics import mean_absolute_percentage_error"
      ]
    },
    {
      "cell_type": "code",
      "source": [
        "from pandas import read_csv\n",
        "from datetime import datetime\n",
        "# load data\n",
        "def parser(x):\n",
        "\treturn datetime.strptime(x, '%Y-%m-%d')\n",
        "dataset = read_csv('/content/drive/MyDrive/VDT2022/mini-project/stroke_recovery_dataset/protocol/sb01.csv',  parse_dates = [1], index_col=0, date_parser=parser)\n",
        "\n",
        "dataset = dataset.set_index('Date')\n",
        "dataset.columns = ['counts', 'speed']\n",
        "# summarize first 5 rows\n",
        "print(dataset.head(5))"
      ],
      "metadata": {
        "colab": {
          "base_uri": "https://localhost:8080/"
        },
        "id": "pwtsTlB-kKyB",
        "outputId": "c4f0ce5f-12d0-4a79-bf9a-8d60e33849bb"
      },
      "execution_count": 3,
      "outputs": [
        {
          "output_type": "stream",
          "name": "stdout",
          "text": [
            "            counts   speed\n",
            "Date                      \n",
            "2020-01-01   394.0  1.1506\n",
            "2020-01-02   397.0  1.1504\n",
            "2020-01-03   382.0  1.1563\n",
            "2020-01-04   395.0  1.1561\n",
            "2020-01-05   394.0  1.1540\n"
          ]
        }
      ]
    },
    {
      "cell_type": "code",
      "source": [
        "plt.plot(dataset.counts)"
      ],
      "metadata": {
        "colab": {
          "base_uri": "https://localhost:8080/",
          "height": 283
        },
        "id": "6_FSXuYrXEYM",
        "outputId": "b8c5c64d-2a83-4b5c-fbc7-128ca43efca0"
      },
      "execution_count": 4,
      "outputs": [
        {
          "output_type": "execute_result",
          "data": {
            "text/plain": [
              "[<matplotlib.lines.Line2D at 0x7fb8bec0ee90>]"
            ]
          },
          "metadata": {},
          "execution_count": 4
        },
        {
          "output_type": "display_data",
          "data": {
            "text/plain": [
              "<Figure size 432x288 with 1 Axes>"
            ],
            "image/png": "[encoded data removed]"
          },
          "metadata": {
            "needs_background": "light"
          }
        }
      ]
    },
    {
      "cell_type": "code",
      "source": [
        "# convert series to supervised learning\n",
        "def series_to_supervised(data, n_in=1, n_out=1, dropnan=True):\n",
        "\tn_vars = 1 if type(data) is list else data.shape[1]\n",
        "\tdf = DataFrame(data)\n",
        "\tcols, names = list(), list()\n",
        "\t# input sequence (t-n, ... t-1)\n",
        "\tfor i in range(n_in, 0, -1):\n",
        "\t\tcols.append(df.shift(i))\n",
        "\t\tnames += [('var%d(t-%d)' % (j+1, i)) for j in range(n_vars)]\n",
        "\t# forecast sequence (t, t+1, ... t+n)\n",
        "\tfor i in range(0, n_out):\n",
        "\t\tcols.append(df.shift(-i))\n",
        "\t\tif i == 0:\n",
        "\t\t\tnames += [('var%d(t)' % (j+1)) for j in range(n_vars)]\n",
        "\t\telse:\n",
        "\t\t\tnames += [('var%d(t+%d)' % (j+1, i)) for j in range(n_vars)]\n",
        "\t# put it all together\n",
        "\tagg = concat(cols, axis=1)\n",
        "\tagg.columns = names\n",
        "\t# drop rows with NaN values\n",
        "\tif dropnan:\n",
        "\t\tagg.dropna(inplace=True)\n",
        "\treturn agg"
      ],
      "metadata": {
        "id": "pXphp_p27TwV"
      },
      "execution_count": 5,
      "outputs": []
    },
    {
      "cell_type": "code",
      "source": [
        "# load dataset\n",
        "def parser(x):\n",
        "\treturn datetime.strptime(x, '%Y-%m-%d')\n",
        "dataset = read_csv('/content/drive/MyDrive/VDT2022/mini-project/stroke_recovery_dataset/protocol/sb01.csv',  \n",
        "                  \tparse_dates = [1], \n",
        "\t\t\t\t\t\t\t\t\t\tindex_col=0, \n",
        "\t\t\t\t\t\t\t\t\t\tdate_parser=parser)\n",
        "\n",
        "dataset = dataset.set_index('Date')\n",
        "dataset.columns = ['counts', 'speed']\n",
        "\n",
        "cols = ['counts', 'speed']\n",
        "dataset = dataset.loc[dataset.index, cols]\n",
        "dataset = dataset.interpolate()\n",
        "dataset.head(5)"
      ],
      "metadata": {
        "colab": {
          "base_uri": "https://localhost:8080/",
          "height": 238
        },
        "id": "GYaS-aAX7sni",
        "outputId": "3b78e8e7-778d-4481-a294-dc9abea8c957"
      },
      "execution_count": 6,
      "outputs": [
        {
          "output_type": "execute_result",
          "data": {
            "text/plain": [
              "            counts   speed\n",
              "Date                      \n",
              "2020-01-01   394.0  1.1506\n",
              "2020-01-02   397.0  1.1504\n",
              "2020-01-03   382.0  1.1563\n",
              "2020-01-04   395.0  1.1561\n",
              "2020-01-05   394.0  1.1540"
            ],
            "text/html": [
              "\n",
              "  <div id=\"df-73683b78-ed13-468b-9856-d634f32009e9\">\n",
              "    <div class=\"colab-df-container\">\n",
              "      <div>\n",
              "<style scoped>\n",
              "    .dataframe tbody tr th:only-of-type {\n",
              "        vertical-align: middle;\n",
              "    }\n",
              "\n",
              "    .dataframe tbody tr th {\n",
              "        vertical-align: top;\n",
              "    }\n",
              "\n",
              "    .dataframe thead th {\n",
              "        text-align: right;\n",
              "    }\n",
              "</style>\n",
              "<table border=\"1\" class=\"dataframe\">\n",
              "  <thead>\n",
              "    <tr style=\"text-align: right;\">\n",
              "      <th></th>\n",
              "      <th>counts</th>\n",
              "      <th>speed</th>\n",
              "    </tr>\n",
              "    <tr>\n",
              "      <th>Date</th>\n",
              "      <th></th>\n",
              "      <th></th>\n",
              "    </tr>\n",
              "  </thead>\n",
              "  <tbody>\n",
              "    <tr>\n",
              "      <th>2020-01-01</th>\n",
              "      <td>394.0</td>\n",
              "      <td>1.1506</td>\n",
              "    </tr>\n",
              "    <tr>\n",
              "      <th>2020-01-02</th>\n",
              "      <td>397.0</td>\n",
              "      <td>1.1504</td>\n",
              "    </tr>\n",
              "    <tr>\n",
              "      <th>2020-01-03</th>\n",
              "      <td>382.0</td>\n",
              "      <td>1.1563</td>\n",
              "    </tr>\n",
              "    <tr>\n",
              "      <th>2020-01-04</th>\n",
              "      <td>395.0</td>\n",
              "      <td>1.1561</td>\n",
              "    </tr>\n",
              "    <tr>\n",
              "      <th>2020-01-05</th>\n",
              "      <td>394.0</td>\n",
              "      <td>1.1540</td>\n",
              "    </tr>\n",
              "  </tbody>\n",
              "</table>\n",
              "</div>\n",
              "      <button class=\"colab-df-convert\" onclick=\"convertToInteractive('df-73683b78-ed13-468b-9856-d634f32009e9')\"\n",
              "              title=\"Convert this dataframe to an interactive table.\"\n",
              "              style=\"display:none;\">\n",
              "        \n",
              "  <svg xmlns=\"http://www.w3.org/2000/svg\" height=\"24px\"viewBox=\"0 0 24 24\"\n",
              "       width=\"24px\">\n",
              "    <path d=\"M0 0h24v24H0V0z\" fill=\"none\"/>\n",
              "    <path d=\"M18.56 5.44l.94 2.06.94-2.06 2.06-.94-2.06-.94-.94-2.06-.94 2.06-2.06.94zm-11 1L8.5 8.5l.94-2.06 2.06-.94-2.06-.94L8.5 2.5l-.94 2.06-2.06.94zm10 10l.94 2.06.94-2.06 2.06-.94-2.06-.94-.94-2.06-.94 2.06-2.06.94z\"/><path d=\"M17.41 7.96l-1.37-1.37c-.4-.4-.92-.59-1.43-.59-.52 0-1.04.2-1.43.59L10.3 9.45l-7.72 7.72c-.78.78-.78 2.05 0 2.83L4 21.41c.39.39.9.59 1.41.59.51 0 1.02-.2 1.41-.59l7.78-7.78 2.81-2.81c.8-.78.8-2.07 0-2.86zM5.41 20L4 18.59l7.72-7.72 1.47 1.35L5.41 20z\"/>\n",
              "  </svg>\n",
              "      </button>\n",
              "      \n",
              "  <style>\n",
              "    .colab-df-container {\n",
              "      display:flex;\n",
              "      flex-wrap:wrap;\n",
              "      gap: 12px;\n",
              "    }\n",
              "\n",
              "    .colab-df-convert {\n",
              "      background-color: #E8F0FE;\n",
              "      border: none;\n",
              "      border-radius: 50%;\n",
              "      cursor: pointer;\n",
              "      display: none;\n",
              "      fill: #1967D2;\n",
              "      height: 32px;\n",
              "      padding: 0 0 0 0;\n",
              "      width: 32px;\n",
              "    }\n",
              "\n",
              "    .colab-df-convert:hover {\n",
              "      background-color: #E2EBFA;\n",
              "      box-shadow: 0px 1px 2px rgba(60, 64, 67, 0.3), 0px 1px 3px 1px rgba(60, 64, 67, 0.15);\n",
              "      fill: #174EA6;\n",
              "    }\n",
              "\n",
              "    [theme=dark] .colab-df-convert {\n",
              "      background-color: #3B4455;\n",
              "      fill: #D2E3FC;\n",
              "    }\n",
              "\n",
              "    [theme=dark] .colab-df-convert:hover {\n",
              "      background-color: #434B5C;\n",
              "      box-shadow: 0px 1px 3px 1px rgba(0, 0, 0, 0.15);\n",
              "      filter: drop-shadow(0px 1px 2px rgba(0, 0, 0, 0.3));\n",
              "      fill: #FFFFFF;\n",
              "    }\n",
              "  </style>\n",
              "\n",
              "      <script>\n",
              "        const buttonEl =\n",
              "          document.querySelector('#df-73683b78-ed13-468b-9856-d634f32009e9 button.colab-df-convert');\n",
              "        buttonEl.style.display =\n",
              "          google.colab.kernel.accessAllowed ? 'block' : 'none';\n",
              "\n",
              "        async function convertToInteractive(key) {\n",
              "          const element = document.querySelector('#df-73683b78-ed13-468b-9856-d634f32009e9');\n",
              "          const dataTable =\n",
              "            await google.colab.kernel.invokeFunction('convertToInteractive',\n",
              "                                                     [key], {});\n",
              "          if (!dataTable) return;\n",
              "\n",
              "          const docLinkHtml = 'Like what you see? Visit the ' +\n",
              "            '<a target=\"_blank\" href=https://colab.research.google.com/notebooks/data_table.ipynb>data table notebook</a>'\n",
              "            + ' to learn more about interactive tables.';\n",
              "          element.innerHTML = '';\n",
              "          dataTable['output_type'] = 'display_data';\n",
              "          await google.colab.output.renderOutput(dataTable, element);\n",
              "          const docLink = document.createElement('div');\n",
              "          docLink.innerHTML = docLinkHtml;\n",
              "          element.appendChild(docLink);\n",
              "        }\n",
              "      </script>\n",
              "    </div>\n",
              "  </div>\n",
              "  "
            ]
          },
          "metadata": {},
          "execution_count": 6
        }
      ]
    },
    {
      "cell_type": "code",
      "source": [
        "counts_trend = read_csv('/content/counts_trend.csv')\n",
        "speed_trend = read_csv('/content/speed_trend.csv')"
      ],
      "metadata": {
        "id": "yu7NGbqzN_7z"
      },
      "execution_count": 60,
      "outputs": []
    },
    {
      "cell_type": "code",
      "source": [
        "counts_trend.head(5)"
      ],
      "metadata": {
        "id": "5t8A98Wk8UOs"
      },
      "execution_count": null,
      "outputs": []
    },
    {
      "cell_type": "code",
      "source": [
        "dataset.counts[0:274] = counts_trend.counts_trend\n",
        "dataset.speed[0:274] = speed_trend.speed_trend"
      ],
      "metadata": {
        "id": "PmK1-6ZIPLwx"
      },
      "execution_count": null,
      "outputs": []
    },
    {
      "cell_type": "code",
      "source": [
        "dataset.head(5)"
      ],
      "metadata": {
        "colab": {
          "base_uri": "https://localhost:8080/",
          "height": 238
        },
        "id": "_u6pR-m3P502",
        "outputId": "f5af374e-209d-4d94-c531-a8539db3285e"
      },
      "execution_count": null,
      "outputs": [
        {
          "output_type": "execute_result",
          "data": {
            "text/plain": [
              "                counts   speed\n",
              "Date                          \n",
              "2020-01-01  392.038602  1.1506\n",
              "2020-01-02  391.828795  1.1504\n",
              "2020-01-03  391.516005  1.1563\n",
              "2020-01-04  391.797150  1.1561\n",
              "2020-01-05  391.822646  1.1540"
            ],
            "text/html": [
              "\n",
              "  <div id=\"df-5a498fea-3275-4e31-b812-4f14de22ea98\">\n",
              "    <div class=\"colab-df-container\">\n",
              "      <div>\n",
              "<style scoped>\n",
              "    .dataframe tbody tr th:only-of-type {\n",
              "        vertical-align: middle;\n",
              "    }\n",
              "\n",
              "    .dataframe tbody tr th {\n",
              "        vertical-align: top;\n",
              "    }\n",
              "\n",
              "    .dataframe thead th {\n",
              "        text-align: right;\n",
              "    }\n",
              "</style>\n",
              "<table border=\"1\" class=\"dataframe\">\n",
              "  <thead>\n",
              "    <tr style=\"text-align: right;\">\n",
              "      <th></th>\n",
              "      <th>counts</th>\n",
              "      <th>speed</th>\n",
              "    </tr>\n",
              "    <tr>\n",
              "      <th>Date</th>\n",
              "      <th></th>\n",
              "      <th></th>\n",
              "    </tr>\n",
              "  </thead>\n",
              "  <tbody>\n",
              "    <tr>\n",
              "      <th>2020-01-01</th>\n",
              "      <td>392.038602</td>\n",
              "      <td>1.1506</td>\n",
              "    </tr>\n",
              "    <tr>\n",
              "      <th>2020-01-02</th>\n",
              "      <td>391.828795</td>\n",
              "      <td>1.1504</td>\n",
              "    </tr>\n",
              "    <tr>\n",
              "      <th>2020-01-03</th>\n",
              "      <td>391.516005</td>\n",
              "      <td>1.1563</td>\n",
              "    </tr>\n",
              "    <tr>\n",
              "      <th>2020-01-04</th>\n",
              "      <td>391.797150</td>\n",
              "      <td>1.1561</td>\n",
              "    </tr>\n",
              "    <tr>\n",
              "      <th>2020-01-05</th>\n",
              "      <td>391.822646</td>\n",
              "      <td>1.1540</td>\n",
              "    </tr>\n",
              "  </tbody>\n",
              "</table>\n",
              "</div>\n",
              "      <button class=\"colab-df-convert\" onclick=\"convertToInteractive('df-5a498fea-3275-4e31-b812-4f14de22ea98')\"\n",
              "              title=\"Convert this dataframe to an interactive table.\"\n",
              "              style=\"display:none;\">\n",
              "        \n",
              "  <svg xmlns=\"http://www.w3.org/2000/svg\" height=\"24px\"viewBox=\"0 0 24 24\"\n",
              "       width=\"24px\">\n",
              "    <path d=\"M0 0h24v24H0V0z\" fill=\"none\"/>\n",
              "    <path d=\"M18.56 5.44l.94 2.06.94-2.06 2.06-.94-2.06-.94-.94-2.06-.94 2.06-2.06.94zm-11 1L8.5 8.5l.94-2.06 2.06-.94-2.06-.94L8.5 2.5l-.94 2.06-2.06.94zm10 10l.94 2.06.94-2.06 2.06-.94-2.06-.94-.94-2.06-.94 2.06-2.06.94z\"/><path d=\"M17.41 7.96l-1.37-1.37c-.4-.4-.92-.59-1.43-.59-.52 0-1.04.2-1.43.59L10.3 9.45l-7.72 7.72c-.78.78-.78 2.05 0 2.83L4 21.41c.39.39.9.59 1.41.59.51 0 1.02-.2 1.41-.59l7.78-7.78 2.81-2.81c.8-.78.8-2.07 0-2.86zM5.41 20L4 18.59l7.72-7.72 1.47 1.35L5.41 20z\"/>\n",
              "  </svg>\n",
              "      </button>\n",
              "      \n",
              "  <style>\n",
              "    .colab-df-container {\n",
              "      display:flex;\n",
              "      flex-wrap:wrap;\n",
              "      gap: 12px;\n",
              "    }\n",
              "\n",
              "    .colab-df-convert {\n",
              "      background-color: #E8F0FE;\n",
              "      border: none;\n",
              "      border-radius: 50%;\n",
              "      cursor: pointer;\n",
              "      display: none;\n",
              "      fill: #1967D2;\n",
              "      height: 32px;\n",
              "      padding: 0 0 0 0;\n",
              "      width: 32px;\n",
              "    }\n",
              "\n",
              "    .colab-df-convert:hover {\n",
              "      background-color: #E2EBFA;\n",
              "      box-shadow: 0px 1px 2px rgba(60, 64, 67, 0.3), 0px 1px 3px 1px rgba(60, 64, 67, 0.15);\n",
              "      fill: #174EA6;\n",
              "    }\n",
              "\n",
              "    [theme=dark] .colab-df-convert {\n",
              "      background-color: #3B4455;\n",
              "      fill: #D2E3FC;\n",
              "    }\n",
              "\n",
              "    [theme=dark] .colab-df-convert:hover {\n",
              "      background-color: #434B5C;\n",
              "      box-shadow: 0px 1px 3px 1px rgba(0, 0, 0, 0.15);\n",
              "      filter: drop-shadow(0px 1px 2px rgba(0, 0, 0, 0.3));\n",
              "      fill: #FFFFFF;\n",
              "    }\n",
              "  </style>\n",
              "\n",
              "      <script>\n",
              "        const buttonEl =\n",
              "          document.querySelector('#df-5a498fea-3275-4e31-b812-4f14de22ea98 button.colab-df-convert');\n",
              "        buttonEl.style.display =\n",
              "          google.colab.kernel.accessAllowed ? 'block' : 'none';\n",
              "\n",
              "        async function convertToInteractive(key) {\n",
              "          const element = document.querySelector('#df-5a498fea-3275-4e31-b812-4f14de22ea98');\n",
              "          const dataTable =\n",
              "            await google.colab.kernel.invokeFunction('convertToInteractive',\n",
              "                                                     [key], {});\n",
              "          if (!dataTable) return;\n",
              "\n",
              "          const docLinkHtml = 'Like what you see? Visit the ' +\n",
              "            '<a target=\"_blank\" href=https://colab.research.google.com/notebooks/data_table.ipynb>data table notebook</a>'\n",
              "            + ' to learn more about interactive tables.';\n",
              "          element.innerHTML = '';\n",
              "          dataTable['output_type'] = 'display_data';\n",
              "          await google.colab.output.renderOutput(dataTable, element);\n",
              "          const docLink = document.createElement('div');\n",
              "          docLink.innerHTML = docLinkHtml;\n",
              "          element.appendChild(docLink);\n",
              "        }\n",
              "      </script>\n",
              "    </div>\n",
              "  </div>\n",
              "  "
            ]
          },
          "metadata": {},
          "execution_count": 18
        }
      ]
    },
    {
      "cell_type": "code",
      "source": [
        "values = dataset.values\n",
        "# integer encode direction\n",
        "# encoder = LabelEncoder()\n",
        "# values[:,0] = encoder.fit_transform(values[:,0])\n",
        "# # ensure all data is float \n",
        "# values = values.astype('float32')\n",
        "# normalize features\n",
        "scaler = MinMaxScaler(feature_range=(0, 1))\n",
        "scaled = scaler.fit_transform(values)"
      ],
      "metadata": {
        "id": "0T__-Fpp8A59"
      },
      "execution_count": 8,
      "outputs": []
    },
    {
      "cell_type": "code",
      "source": [
        "# specify the number of lag days\n",
        "n_hours = 3\n",
        "n_features = 2\n",
        "# frame as supervised learning\n",
        "reframed = series_to_supervised(scaled, n_hours, 1)\n",
        "print(reframed.shape)\n",
        "\n",
        "# split into train and test sets\n",
        "values = reframed.values\n",
        "n_train = 274\n",
        "train = values[:n_train, :]\n",
        "test = values[n_train:, :]"
      ],
      "metadata": {
        "colab": {
          "base_uri": "https://localhost:8080/"
        },
        "id": "BS-Amm0_9K2e",
        "outputId": "3bcb2344-e544-4dc0-85b8-c0249eb4d5c5"
      },
      "execution_count": 9,
      "outputs": [
        {
          "output_type": "stream",
          "name": "stdout",
          "text": [
            "(363, 8)\n"
          ]
        }
      ]
    },
    {
      "cell_type": "code",
      "source": [
        "# split into input and outputs\n",
        "n_obs = n_hours * n_features\n",
        "train_X, train_y = train[:, :n_obs], train[:, 6:8]\n",
        "test_X, test_y = test[:, :n_obs], test[:, 6:8]\n",
        "print(train_X.shape, len(train_X), train_y.shape)\n",
        "# reshape input to be 3D [samples, timesteps, features]\n",
        "train_X = train_X.reshape((train_X.shape[0], n_hours, n_features))\n",
        "test_X = test_X.reshape((test_X.shape[0], n_hours, n_features))\n",
        "print(train_X.shape, train_y.shape, test_X.shape, test_y.shape)"
      ],
      "metadata": {
        "colab": {
          "base_uri": "https://localhost:8080/"
        },
        "id": "4VFx2T-2-IAB",
        "outputId": "dfcd2467-3ad3-4391-fcf3-c75befebe794"
      },
      "execution_count": 45,
      "outputs": [
        {
          "output_type": "stream",
          "name": "stdout",
          "text": [
            "(274, 6) 274 (274, 2)\n",
            "(274, 3, 2) (274, 2) (89, 3, 2) (89, 2)\n"
          ]
        }
      ]
    },
    {
      "cell_type": "code",
      "source": [
        "# design network\n",
        "model = Sequential()\n",
        "model.add(LSTM(50, input_shape=(train_X.shape[1], train_X.shape[2])))\n",
        "model.add(Dense(2))\n",
        "model.compile(loss='mae', optimizer='adam')\n",
        "# fit network\n",
        "history = model.fit(train_X, train_y, epochs=150, batch_size=92, validation_data=(test_X, test_y), verbose=2, shuffle=False)\n",
        "# plot history\n",
        "pyplot.plot(history.history['loss'], label='train')\n",
        "pyplot.plot(history.history['val_loss'], label='test')\n",
        "pyplot.legend()\n",
        "pyplot.show()"
      ],
      "metadata": {
        "colab": {
          "base_uri": "https://localhost:8080/",
          "height": 1000
        },
        "id": "uJ5y8OPKaAzI",
        "outputId": "52f4a174-66a8-4558-f29e-08dd322fa6ef"
      },
      "execution_count": 48,
      "outputs": [
        {
          "output_type": "stream",
          "name": "stdout",
          "text": [
            "Epoch 1/150\n",
            "3/3 - 4s - loss: 0.4557 - val_loss: 0.9043 - 4s/epoch - 1s/step\n",
            "Epoch 2/150\n",
            "3/3 - 0s - loss: 0.4196 - val_loss: 0.8463 - 46ms/epoch - 15ms/step\n",
            "Epoch 3/150\n",
            "3/3 - 0s - loss: 0.3838 - val_loss: 0.7879 - 42ms/epoch - 14ms/step\n",
            "Epoch 4/150\n",
            "3/3 - 0s - loss: 0.3482 - val_loss: 0.7289 - 41ms/epoch - 14ms/step\n",
            "Epoch 5/150\n",
            "3/3 - 0s - loss: 0.3128 - val_loss: 0.6686 - 42ms/epoch - 14ms/step\n",
            "Epoch 6/150\n",
            "3/3 - 0s - loss: 0.2770 - val_loss: 0.6063 - 41ms/epoch - 14ms/step\n",
            "Epoch 7/150\n",
            "3/3 - 0s - loss: 0.2406 - val_loss: 0.5413 - 41ms/epoch - 14ms/step\n",
            "Epoch 8/150\n",
            "3/3 - 0s - loss: 0.2058 - val_loss: 0.4753 - 45ms/epoch - 15ms/step\n",
            "Epoch 9/150\n",
            "3/3 - 0s - loss: 0.1742 - val_loss: 0.4082 - 40ms/epoch - 13ms/step\n",
            "Epoch 10/150\n",
            "3/3 - 0s - loss: 0.1446 - val_loss: 0.3402 - 44ms/epoch - 15ms/step\n",
            "Epoch 11/150\n",
            "3/3 - 0s - loss: 0.1187 - val_loss: 0.2725 - 41ms/epoch - 14ms/step\n",
            "Epoch 12/150\n",
            "3/3 - 0s - loss: 0.0980 - val_loss: 0.2094 - 45ms/epoch - 15ms/step\n",
            "Epoch 13/150\n",
            "3/3 - 0s - loss: 0.0831 - val_loss: 0.1568 - 43ms/epoch - 14ms/step\n",
            "Epoch 14/150\n",
            "3/3 - 0s - loss: 0.0695 - val_loss: 0.1182 - 45ms/epoch - 15ms/step\n",
            "Epoch 15/150\n",
            "3/3 - 0s - loss: 0.0615 - val_loss: 0.1006 - 51ms/epoch - 17ms/step\n",
            "Epoch 16/150\n",
            "3/3 - 0s - loss: 0.0649 - val_loss: 0.1120 - 43ms/epoch - 14ms/step\n",
            "Epoch 17/150\n",
            "3/3 - 0s - loss: 0.0677 - val_loss: 0.1181 - 47ms/epoch - 16ms/step\n",
            "Epoch 18/150\n",
            "3/3 - 0s - loss: 0.0638 - val_loss: 0.1168 - 41ms/epoch - 14ms/step\n",
            "Epoch 19/150\n",
            "3/3 - 0s - loss: 0.0588 - val_loss: 0.1176 - 41ms/epoch - 14ms/step\n",
            "Epoch 20/150\n",
            "3/3 - 0s - loss: 0.0553 - val_loss: 0.1157 - 38ms/epoch - 13ms/step\n",
            "Epoch 21/150\n",
            "3/3 - 0s - loss: 0.0528 - val_loss: 0.1065 - 46ms/epoch - 15ms/step\n",
            "Epoch 22/150\n",
            "3/3 - 0s - loss: 0.0511 - val_loss: 0.0945 - 45ms/epoch - 15ms/step\n",
            "Epoch 23/150\n",
            "3/3 - 0s - loss: 0.0493 - val_loss: 0.0850 - 46ms/epoch - 15ms/step\n",
            "Epoch 24/150\n",
            "3/3 - 0s - loss: 0.0470 - val_loss: 0.0828 - 42ms/epoch - 14ms/step\n",
            "Epoch 25/150\n",
            "3/3 - 0s - loss: 0.0451 - val_loss: 0.0851 - 39ms/epoch - 13ms/step\n",
            "Epoch 26/150\n",
            "3/3 - 0s - loss: 0.0436 - val_loss: 0.0860 - 44ms/epoch - 15ms/step\n",
            "Epoch 27/150\n",
            "3/3 - 0s - loss: 0.0420 - val_loss: 0.0833 - 50ms/epoch - 17ms/step\n",
            "Epoch 28/150\n",
            "3/3 - 0s - loss: 0.0399 - val_loss: 0.0781 - 49ms/epoch - 16ms/step\n",
            "Epoch 29/150\n",
            "3/3 - 0s - loss: 0.0381 - val_loss: 0.0731 - 46ms/epoch - 15ms/step\n",
            "Epoch 30/150\n",
            "3/3 - 0s - loss: 0.0365 - val_loss: 0.0700 - 43ms/epoch - 14ms/step\n",
            "Epoch 31/150\n",
            "3/3 - 0s - loss: 0.0350 - val_loss: 0.0685 - 41ms/epoch - 14ms/step\n",
            "Epoch 32/150\n",
            "3/3 - 0s - loss: 0.0334 - val_loss: 0.0678 - 44ms/epoch - 15ms/step\n",
            "Epoch 33/150\n",
            "3/3 - 0s - loss: 0.0318 - val_loss: 0.0673 - 40ms/epoch - 13ms/step\n",
            "Epoch 34/150\n",
            "3/3 - 0s - loss: 0.0305 - val_loss: 0.0669 - 46ms/epoch - 15ms/step\n",
            "Epoch 35/150\n",
            "3/3 - 0s - loss: 0.0295 - val_loss: 0.0656 - 38ms/epoch - 13ms/step\n",
            "Epoch 36/150\n",
            "3/3 - 0s - loss: 0.0285 - val_loss: 0.0630 - 49ms/epoch - 16ms/step\n",
            "Epoch 37/150\n",
            "3/3 - 0s - loss: 0.0276 - val_loss: 0.0600 - 40ms/epoch - 13ms/step\n",
            "Epoch 38/150\n",
            "3/3 - 0s - loss: 0.0268 - val_loss: 0.0584 - 41ms/epoch - 14ms/step\n",
            "Epoch 39/150\n",
            "3/3 - 0s - loss: 0.0261 - val_loss: 0.0584 - 42ms/epoch - 14ms/step\n",
            "Epoch 40/150\n",
            "3/3 - 0s - loss: 0.0254 - val_loss: 0.0587 - 43ms/epoch - 14ms/step\n",
            "Epoch 41/150\n",
            "3/3 - 0s - loss: 0.0250 - val_loss: 0.0581 - 43ms/epoch - 14ms/step\n",
            "Epoch 42/150\n",
            "3/3 - 0s - loss: 0.0246 - val_loss: 0.0568 - 52ms/epoch - 17ms/step\n",
            "Epoch 43/150\n",
            "3/3 - 0s - loss: 0.0242 - val_loss: 0.0552 - 42ms/epoch - 14ms/step\n",
            "Epoch 44/150\n",
            "3/3 - 0s - loss: 0.0239 - val_loss: 0.0538 - 44ms/epoch - 15ms/step\n",
            "Epoch 45/150\n",
            "3/3 - 0s - loss: 0.0236 - val_loss: 0.0534 - 48ms/epoch - 16ms/step\n",
            "Epoch 46/150\n",
            "3/3 - 0s - loss: 0.0234 - val_loss: 0.0543 - 45ms/epoch - 15ms/step\n",
            "Epoch 47/150\n",
            "3/3 - 0s - loss: 0.0232 - val_loss: 0.0557 - 43ms/epoch - 14ms/step\n",
            "Epoch 48/150\n",
            "3/3 - 0s - loss: 0.0231 - val_loss: 0.0569 - 46ms/epoch - 15ms/step\n",
            "Epoch 49/150\n",
            "3/3 - 0s - loss: 0.0230 - val_loss: 0.0572 - 45ms/epoch - 15ms/step\n",
            "Epoch 50/150\n",
            "3/3 - 0s - loss: 0.0229 - val_loss: 0.0567 - 45ms/epoch - 15ms/step\n",
            "Epoch 51/150\n",
            "3/3 - 0s - loss: 0.0227 - val_loss: 0.0557 - 46ms/epoch - 15ms/step\n",
            "Epoch 52/150\n",
            "3/3 - 0s - loss: 0.0226 - val_loss: 0.0550 - 48ms/epoch - 16ms/step\n",
            "Epoch 53/150\n",
            "3/3 - 0s - loss: 0.0226 - val_loss: 0.0551 - 64ms/epoch - 21ms/step\n",
            "Epoch 54/150\n",
            "3/3 - 0s - loss: 0.0225 - val_loss: 0.0560 - 42ms/epoch - 14ms/step\n",
            "Epoch 55/150\n",
            "3/3 - 0s - loss: 0.0224 - val_loss: 0.0566 - 44ms/epoch - 15ms/step\n",
            "Epoch 56/150\n",
            "3/3 - 0s - loss: 0.0223 - val_loss: 0.0566 - 53ms/epoch - 18ms/step\n",
            "Epoch 57/150\n",
            "3/3 - 0s - loss: 0.0223 - val_loss: 0.0562 - 43ms/epoch - 14ms/step\n",
            "Epoch 58/150\n",
            "3/3 - 0s - loss: 0.0222 - val_loss: 0.0556 - 46ms/epoch - 15ms/step\n",
            "Epoch 59/150\n",
            "3/3 - 0s - loss: 0.0222 - val_loss: 0.0553 - 40ms/epoch - 13ms/step\n",
            "Epoch 60/150\n",
            "3/3 - 0s - loss: 0.0221 - val_loss: 0.0556 - 39ms/epoch - 13ms/step\n",
            "Epoch 61/150\n",
            "3/3 - 0s - loss: 0.0221 - val_loss: 0.0555 - 44ms/epoch - 15ms/step\n",
            "Epoch 62/150\n",
            "3/3 - 0s - loss: 0.0220 - val_loss: 0.0552 - 45ms/epoch - 15ms/step\n",
            "Epoch 63/150\n",
            "3/3 - 0s - loss: 0.0220 - val_loss: 0.0551 - 44ms/epoch - 15ms/step\n",
            "Epoch 64/150\n",
            "3/3 - 0s - loss: 0.0219 - val_loss: 0.0549 - 48ms/epoch - 16ms/step\n",
            "Epoch 65/150\n",
            "3/3 - 0s - loss: 0.0219 - val_loss: 0.0548 - 39ms/epoch - 13ms/step\n",
            "Epoch 66/150\n",
            "3/3 - 0s - loss: 0.0218 - val_loss: 0.0546 - 47ms/epoch - 16ms/step\n",
            "Epoch 67/150\n",
            "3/3 - 0s - loss: 0.0218 - val_loss: 0.0540 - 47ms/epoch - 16ms/step\n",
            "Epoch 68/150\n",
            "3/3 - 0s - loss: 0.0217 - val_loss: 0.0531 - 46ms/epoch - 15ms/step\n",
            "Epoch 69/150\n",
            "3/3 - 0s - loss: 0.0217 - val_loss: 0.0525 - 43ms/epoch - 14ms/step\n",
            "Epoch 70/150\n",
            "3/3 - 0s - loss: 0.0217 - val_loss: 0.0522 - 44ms/epoch - 15ms/step\n",
            "Epoch 71/150\n",
            "3/3 - 0s - loss: 0.0216 - val_loss: 0.0518 - 44ms/epoch - 15ms/step\n",
            "Epoch 72/150\n",
            "3/3 - 0s - loss: 0.0216 - val_loss: 0.0512 - 45ms/epoch - 15ms/step\n",
            "Epoch 73/150\n",
            "3/3 - 0s - loss: 0.0215 - val_loss: 0.0506 - 46ms/epoch - 15ms/step\n",
            "Epoch 74/150\n",
            "3/3 - 0s - loss: 0.0215 - val_loss: 0.0499 - 41ms/epoch - 14ms/step\n",
            "Epoch 75/150\n",
            "3/3 - 0s - loss: 0.0214 - val_loss: 0.0492 - 44ms/epoch - 15ms/step\n",
            "Epoch 76/150\n",
            "3/3 - 0s - loss: 0.0214 - val_loss: 0.0485 - 43ms/epoch - 14ms/step\n",
            "Epoch 77/150\n",
            "3/3 - 0s - loss: 0.0213 - val_loss: 0.0478 - 52ms/epoch - 17ms/step\n",
            "Epoch 78/150\n",
            "3/3 - 0s - loss: 0.0213 - val_loss: 0.0471 - 43ms/epoch - 14ms/step\n",
            "Epoch 79/150\n",
            "3/3 - 0s - loss: 0.0212 - val_loss: 0.0463 - 43ms/epoch - 14ms/step\n",
            "Epoch 80/150\n",
            "3/3 - 0s - loss: 0.0212 - val_loss: 0.0456 - 43ms/epoch - 14ms/step\n",
            "Epoch 81/150\n",
            "3/3 - 0s - loss: 0.0211 - val_loss: 0.0449 - 40ms/epoch - 13ms/step\n",
            "Epoch 82/150\n",
            "3/3 - 0s - loss: 0.0211 - val_loss: 0.0446 - 49ms/epoch - 16ms/step\n",
            "Epoch 83/150\n",
            "3/3 - 0s - loss: 0.0210 - val_loss: 0.0442 - 44ms/epoch - 15ms/step\n",
            "Epoch 84/150\n",
            "3/3 - 0s - loss: 0.0210 - val_loss: 0.0435 - 41ms/epoch - 14ms/step\n",
            "Epoch 85/150\n",
            "3/3 - 0s - loss: 0.0209 - val_loss: 0.0429 - 43ms/epoch - 14ms/step\n",
            "Epoch 86/150\n",
            "3/3 - 0s - loss: 0.0209 - val_loss: 0.0424 - 46ms/epoch - 15ms/step\n",
            "Epoch 87/150\n",
            "3/3 - 0s - loss: 0.0208 - val_loss: 0.0417 - 39ms/epoch - 13ms/step\n",
            "Epoch 88/150\n",
            "3/3 - 0s - loss: 0.0208 - val_loss: 0.0409 - 44ms/epoch - 15ms/step\n",
            "Epoch 89/150\n",
            "3/3 - 0s - loss: 0.0207 - val_loss: 0.0401 - 45ms/epoch - 15ms/step\n",
            "Epoch 90/150\n",
            "3/3 - 0s - loss: 0.0207 - val_loss: 0.0393 - 64ms/epoch - 21ms/step\n",
            "Epoch 91/150\n",
            "3/3 - 0s - loss: 0.0206 - val_loss: 0.0387 - 47ms/epoch - 16ms/step\n",
            "Epoch 92/150\n",
            "3/3 - 0s - loss: 0.0205 - val_loss: 0.0380 - 50ms/epoch - 17ms/step\n",
            "Epoch 93/150\n",
            "3/3 - 0s - loss: 0.0205 - val_loss: 0.0373 - 47ms/epoch - 16ms/step\n",
            "Epoch 94/150\n",
            "3/3 - 0s - loss: 0.0204 - val_loss: 0.0367 - 40ms/epoch - 13ms/step\n",
            "Epoch 95/150\n",
            "3/3 - 0s - loss: 0.0204 - val_loss: 0.0360 - 42ms/epoch - 14ms/step\n",
            "Epoch 96/150\n",
            "3/3 - 0s - loss: 0.0203 - val_loss: 0.0353 - 41ms/epoch - 14ms/step\n",
            "Epoch 97/150\n",
            "3/3 - 0s - loss: 0.0203 - val_loss: 0.0346 - 52ms/epoch - 17ms/step\n",
            "Epoch 98/150\n",
            "3/3 - 0s - loss: 0.0202 - val_loss: 0.0340 - 40ms/epoch - 13ms/step\n",
            "Epoch 99/150\n",
            "3/3 - 0s - loss: 0.0202 - val_loss: 0.0334 - 43ms/epoch - 14ms/step\n",
            "Epoch 100/150\n",
            "3/3 - 0s - loss: 0.0201 - val_loss: 0.0328 - 44ms/epoch - 15ms/step\n",
            "Epoch 101/150\n",
            "3/3 - 0s - loss: 0.0201 - val_loss: 0.0321 - 44ms/epoch - 15ms/step\n",
            "Epoch 102/150\n",
            "3/3 - 0s - loss: 0.0200 - val_loss: 0.0316 - 41ms/epoch - 14ms/step\n",
            "Epoch 103/150\n",
            "3/3 - 0s - loss: 0.0200 - val_loss: 0.0311 - 47ms/epoch - 16ms/step\n",
            "Epoch 104/150\n",
            "3/3 - 0s - loss: 0.0199 - val_loss: 0.0305 - 43ms/epoch - 14ms/step\n",
            "Epoch 105/150\n",
            "3/3 - 0s - loss: 0.0198 - val_loss: 0.0297 - 40ms/epoch - 13ms/step\n",
            "Epoch 106/150\n",
            "3/3 - 0s - loss: 0.0198 - val_loss: 0.0291 - 41ms/epoch - 14ms/step\n",
            "Epoch 107/150\n",
            "3/3 - 0s - loss: 0.0197 - val_loss: 0.0288 - 50ms/epoch - 17ms/step\n",
            "Epoch 108/150\n",
            "3/3 - 0s - loss: 0.0197 - val_loss: 0.0280 - 47ms/epoch - 16ms/step\n",
            "Epoch 109/150\n",
            "3/3 - 0s - loss: 0.0196 - val_loss: 0.0271 - 48ms/epoch - 16ms/step\n",
            "Epoch 110/150\n",
            "3/3 - 0s - loss: 0.0196 - val_loss: 0.0266 - 46ms/epoch - 15ms/step\n",
            "Epoch 111/150\n",
            "3/3 - 0s - loss: 0.0195 - val_loss: 0.0263 - 46ms/epoch - 15ms/step\n",
            "Epoch 112/150\n",
            "3/3 - 0s - loss: 0.0195 - val_loss: 0.0261 - 45ms/epoch - 15ms/step\n",
            "Epoch 113/150\n",
            "3/3 - 0s - loss: 0.0194 - val_loss: 0.0257 - 55ms/epoch - 18ms/step\n",
            "Epoch 114/150\n",
            "3/3 - 0s - loss: 0.0194 - val_loss: 0.0253 - 52ms/epoch - 17ms/step\n",
            "Epoch 115/150\n",
            "3/3 - 0s - loss: 0.0194 - val_loss: 0.0250 - 46ms/epoch - 15ms/step\n",
            "Epoch 116/150\n",
            "3/3 - 0s - loss: 0.0193 - val_loss: 0.0246 - 44ms/epoch - 15ms/step\n",
            "Epoch 117/150\n",
            "3/3 - 0s - loss: 0.0193 - val_loss: 0.0244 - 41ms/epoch - 14ms/step\n",
            "Epoch 118/150\n",
            "3/3 - 0s - loss: 0.0193 - val_loss: 0.0243 - 53ms/epoch - 18ms/step\n",
            "Epoch 119/150\n",
            "3/3 - 0s - loss: 0.0193 - val_loss: 0.0241 - 48ms/epoch - 16ms/step\n",
            "Epoch 120/150\n",
            "3/3 - 0s - loss: 0.0192 - val_loss: 0.0239 - 47ms/epoch - 16ms/step\n",
            "Epoch 121/150\n",
            "3/3 - 0s - loss: 0.0192 - val_loss: 0.0236 - 47ms/epoch - 16ms/step\n",
            "Epoch 122/150\n",
            "3/3 - 0s - loss: 0.0192 - val_loss: 0.0233 - 46ms/epoch - 15ms/step\n",
            "Epoch 123/150\n",
            "3/3 - 0s - loss: 0.0192 - val_loss: 0.0231 - 49ms/epoch - 16ms/step\n",
            "Epoch 124/150\n",
            "3/3 - 0s - loss: 0.0191 - val_loss: 0.0231 - 41ms/epoch - 14ms/step\n",
            "Epoch 125/150\n",
            "3/3 - 0s - loss: 0.0191 - val_loss: 0.0229 - 43ms/epoch - 14ms/step\n",
            "Epoch 126/150\n",
            "3/3 - 0s - loss: 0.0191 - val_loss: 0.0227 - 55ms/epoch - 18ms/step\n",
            "Epoch 127/150\n",
            "3/3 - 0s - loss: 0.0191 - val_loss: 0.0226 - 41ms/epoch - 14ms/step\n",
            "Epoch 128/150\n",
            "3/3 - 0s - loss: 0.0191 - val_loss: 0.0224 - 42ms/epoch - 14ms/step\n",
            "Epoch 129/150\n",
            "3/3 - 0s - loss: 0.0190 - val_loss: 0.0222 - 43ms/epoch - 14ms/step\n",
            "Epoch 130/150\n",
            "3/3 - 0s - loss: 0.0190 - val_loss: 0.0219 - 44ms/epoch - 15ms/step\n",
            "Epoch 131/150\n",
            "3/3 - 0s - loss: 0.0190 - val_loss: 0.0217 - 49ms/epoch - 16ms/step\n",
            "Epoch 132/150\n",
            "3/3 - 0s - loss: 0.0190 - val_loss: 0.0214 - 52ms/epoch - 17ms/step\n",
            "Epoch 133/150\n",
            "3/3 - 0s - loss: 0.0190 - val_loss: 0.0216 - 44ms/epoch - 15ms/step\n",
            "Epoch 134/150\n",
            "3/3 - 0s - loss: 0.0189 - val_loss: 0.0211 - 43ms/epoch - 14ms/step\n",
            "Epoch 135/150\n",
            "3/3 - 0s - loss: 0.0190 - val_loss: 0.0208 - 41ms/epoch - 14ms/step\n",
            "Epoch 136/150\n",
            "3/3 - 0s - loss: 0.0189 - val_loss: 0.0205 - 47ms/epoch - 16ms/step\n",
            "Epoch 137/150\n",
            "3/3 - 0s - loss: 0.0189 - val_loss: 0.0203 - 43ms/epoch - 14ms/step\n",
            "Epoch 138/150\n",
            "3/3 - 0s - loss: 0.0189 - val_loss: 0.0204 - 54ms/epoch - 18ms/step\n",
            "Epoch 139/150\n",
            "3/3 - 0s - loss: 0.0189 - val_loss: 0.0201 - 53ms/epoch - 18ms/step\n",
            "Epoch 140/150\n",
            "3/3 - 0s - loss: 0.0189 - val_loss: 0.0203 - 47ms/epoch - 16ms/step\n",
            "Epoch 141/150\n",
            "3/3 - 0s - loss: 0.0188 - val_loss: 0.0195 - 42ms/epoch - 14ms/step\n",
            "Epoch 142/150\n",
            "3/3 - 0s - loss: 0.0188 - val_loss: 0.0197 - 44ms/epoch - 15ms/step\n",
            "Epoch 143/150\n",
            "3/3 - 0s - loss: 0.0188 - val_loss: 0.0196 - 46ms/epoch - 15ms/step\n",
            "Epoch 144/150\n",
            "3/3 - 0s - loss: 0.0188 - val_loss: 0.0197 - 46ms/epoch - 15ms/step\n",
            "Epoch 145/150\n",
            "3/3 - 0s - loss: 0.0188 - val_loss: 0.0192 - 49ms/epoch - 16ms/step\n",
            "Epoch 146/150\n",
            "3/3 - 0s - loss: 0.0188 - val_loss: 0.0191 - 43ms/epoch - 14ms/step\n",
            "Epoch 147/150\n",
            "3/3 - 0s - loss: 0.0187 - val_loss: 0.0190 - 44ms/epoch - 15ms/step\n",
            "Epoch 148/150\n",
            "3/3 - 0s - loss: 0.0187 - val_loss: 0.0192 - 48ms/epoch - 16ms/step\n",
            "Epoch 149/150\n",
            "3/3 - 0s - loss: 0.0187 - val_loss: 0.0188 - 46ms/epoch - 15ms/step\n",
            "Epoch 150/150\n",
            "3/3 - 0s - loss: 0.0187 - val_loss: 0.0188 - 43ms/epoch - 14ms/step\n"
          ]
        },
        {
          "output_type": "display_data",
          "data": {
            "text/plain": [
              "<Figure size 432x288 with 1 Axes>"
            ],
            "image/png": "[encoded data removed]"
          },
          "metadata": {
            "needs_background": "light"
          }
        }
      ]
    },
    {
      "cell_type": "code",
      "source": [
        "# make a prediction counts\n",
        "yhat = model.predict(test_X)\n",
        "# test_Xc = test_X.reshape((test_X.shape[0], n_hours*n_features))\n",
        "# invert scaling for forecast\n",
        "# inv_yhat = concatenate((yhat, test_Xc[:, -1:]), axis=1)\n",
        "inv_yhat = scaler.inverse_transform(yhat)\n",
        "# invert scaling for actual\n",
        "# test_y = test_y.reshape((len(test_y), 1))\n",
        "# inv_y = concatenate((test_y, test_Xc[:, -1:]), axis=1)\n",
        "inv_y = scaler.inverse_transform(test_y)"
      ],
      "metadata": {
        "id": "yaPJt0uiiFZ7"
      },
      "execution_count": 49,
      "outputs": []
    },
    {
      "cell_type": "code",
      "source": [
        "counts_y = inv_y[:,0]\n",
        "counts_yhat = inv_yhat[:,0]\n",
        "# calculate RMSE\n",
        "rmse = sqrt(mean_squared_error(counts_y, counts_yhat))\n",
        "print('Test RMSE: %.6f' % rmse)\n",
        "# calculate MAE\n",
        "mae = mean_absolute_error(counts_y, counts_yhat)\n",
        "print('Test MAE: %.6f' % mae)\n",
        "# calculate MAPE\n",
        "mape = mean_absolute_percentage_error(counts_y, counts_yhat)\n",
        "print('Test MAPE: %.6f' % mape)"
      ],
      "metadata": {
        "colab": {
          "base_uri": "https://localhost:8080/"
        },
        "id": "WAD212pU_jpH",
        "outputId": "ac9e63fa-4517-4d83-ecc8-959bd5f3898b"
      },
      "execution_count": 69,
      "outputs": [
        {
          "output_type": "stream",
          "name": "stdout",
          "text": [
            "Test RMSE: 1.955751\n",
            "Test MAE: 1.664830\n",
            "Test MAPE: 0.003642\n"
          ]
        }
      ]
    },
    {
      "cell_type": "code",
      "source": [
        "speed_y = inv_y[:,1]\n",
        "speed_yhat = inv_yhat[:,1]\n",
        "# calculate RMSE\n",
        "rmse = sqrt(mean_squared_error(speed_y, speed_yhat))\n",
        "print('Test RMSE: %.6f' % rmse)"
      ],
      "metadata": {
        "colab": {
          "base_uri": "https://localhost:8080/"
        },
        "id": "APkWkuUJB82Y",
        "outputId": "72cbaea3-d60a-4201-e8bd-caa1974ddb41"
      },
      "execution_count": 54,
      "outputs": [
        {
          "output_type": "stream",
          "name": "stdout",
          "text": [
            "Test RMSE: 0.002006\n"
          ]
        }
      ]
    },
    {
      "cell_type": "code",
      "source": [
        "speed_y = inv_y[:,1]\n",
        "speed_yhat = inv_yhat[:,1]\n",
        "# calculate MAE\n",
        "mae = mean_absolute_error(speed_y, speed_yhat)\n",
        "print('Test MAE: %.6f' % mae)"
      ],
      "metadata": {
        "colab": {
          "base_uri": "https://localhost:8080/"
        },
        "id": "WOpFgri8CGKB",
        "outputId": "d0e425e2-fa88-47d2-ac64-305d9a6b7103"
      },
      "execution_count": 55,
      "outputs": [
        {
          "output_type": "stream",
          "name": "stdout",
          "text": [
            "Test MAE: 0.001670\n"
          ]
        }
      ]
    },
    {
      "cell_type": "code",
      "source": [
        "speed_y = inv_y[:,1]\n",
        "speed_yhat = inv_yhat[:,1]\n",
        "# calculate MAPE\n",
        "mape = mean_absolute_percentage_error(speed_y, speed_yhat)\n",
        "print('Test MAE: %.6f' % mape)"
      ],
      "metadata": {
        "id": "3RtNNXYuPohL",
        "colab": {
          "base_uri": "https://localhost:8080/"
        },
        "outputId": "5ea8d37e-98e4-4d32-e6b4-2fead997c457"
      },
      "execution_count": 57,
      "outputs": [
        {
          "output_type": "stream",
          "name": "stdout",
          "text": [
            "Test MAE: 0.001358\n"
          ]
        }
      ]
    }
  ]
}